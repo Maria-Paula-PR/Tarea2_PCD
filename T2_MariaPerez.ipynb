{
 "cells": [
  {
   "cell_type": "markdown",
   "metadata": {},
   "source": [
    "## Tarea 2\n",
    "\n",
    "Crear un nuevo repositorio en su cuenta de `GitHub` llamado `Tarea2_PCD`. En dicho proyecto añadir un notebook de jupyter que debe contener lo siguiente:\n",
    "\n",
    "1. Un resumen de al menos uno de los siguientes artículos donde se resalta la importancia del despliegue en producción de proyectos de ML:\n",
    "    - https://aws.amazon.com/es/what-is/mlops/\n",
    "    - https://www.redhat.com/en/topics/ai/what-is-mlops \n",
    "    - https://www.databricks.com/glossary/mlops \n",
    "    - https://learn.microsoft.com/en-us/azure/architecture/ai-ml/guide/mlops-maturity-model\n",
    "    - https://towardsdatascience.com/a-gentle-introduction-to-mlops-7d64a3e890ff\n",
    "\n",
    "2. El repositorio debe contener al menos 2 `commits` detallados de los cambios hechos en el notebook de jupyter.\n",
    "\n",
    "3. El nombre del archivo debe ser el siguiente T2_PrimerNombrePrimerApellido.ipynb, en mi caso sería T2_CristianZapata.ipynb.\n",
    "\n",
    "4. El archivo debe existir en una rama que se llame `feature-1` adicional a la rama principal `main`.\n",
    "\n",
    "5. La rama `main` debe tener un archivo `README.md` con información acerca del repositorio (¿Qué contiene el repo? ¿Qué ramas existen? ¿Para qué se hizo?)\n",
    "\n",
    "\n",
    "Recuerde el uso de la sintáxis Markdown: [https://www.markdownguide.org/cheat-sheet/](https://www.markdownguide.org/cheat-sheet/)\n",
    "\n",
    "\n",
    "**ENTREGABLE: SE DEBE SUBIR EL ENLACE DE GITHUB AL REPOSITORIO INDICADO.**\n",
    "**FECHA DE ENTREGA:** Martes 20 de Agosto a las 19:55\n",
    "\n"
   ]
  },
  {
   "cell_type": "markdown",
   "metadata": {},
   "source": [
    "## What are MLOps\n",
    "\n",
    "The **Machine Learning operations** (MLOps) are models that seek to automatize and simplify problems. MLOps are the Machine Learning projects that also include developing applications ML (Dev). These procceses include models, tests, integration, deployment and infrastructure administration. \n",
    "\n",
    "#### Why are they needed?\n",
    "\n",
    "MLOps is essential for managing the simultaneous deployment of new models, code modifications, and data updates. It ensures that machine learning models can be integrated, tested, and deployed efficiently within existing applications while maintaining consistency and reliability across the entire system.\n",
    "\n",
    "#### MLOps **principles**\n",
    "- **version control**: This process follows the changes made in the machine learning model, so that if it is needed it can use previous versions. Each modification of the training of the model reviews the code version. \n",
    "- **Automation**: It automatizes different steps of the model to ensure repeatability, coherence, and escalability. This helps find problems in their early stage so that they can be corrected and learn quikly. \n",
    "- **Contineous Activity**:\n",
    "Through automation, you can continuously run tests and deploy code throughout your ML pipeline.\n",
    "\n",
    "    1. Continuous integration extends code validation and testing to include data and models within the pipeline.\n",
    "    2. Continuous delivery automatically deploys the newly trained model or prediction service.\n",
    "    3. Continuous training automatically retrains ML models for redeployment.\n",
    "    4. Continuous monitoring involves tracking data and models using business-related metrics. \n",
    "\n"
   ]
  },
  {
   "cell_type": "markdown",
   "metadata": {},
   "source": [
    "### Benefits of MLOps\n",
    "\n",
    "Machine learning enables organizations to analyze data and gain insights for decision-making. However, it's an innovative and experimental field with challenges such as data protection, limited budgets, a shortage of skilled personnel, and rapidly evolving technology, all of which can interfeer with the project success. Without proper control and guidance, costs can escalate, and data science teams may struggle to achieve desired outcomes.\n",
    "\n",
    "MLOps provides a roadmap to guide machine learning projects towards success.\n",
    "\n",
    "- **Faster Time-to-Market:** MLOps provides a framework that allows organizations to achieve data science goals more quickly and efficiently. Developers and managers can adopt more strategic and agile approaches, and ML engineers can provision infrastructure through declarative configuration files, enabling smoother project launches.\n",
    "\n",
    "- **Improved Productivity:** MLOps practices boost productivity and accelerate ML model development. By standardizing development environments, ML engineers can easily start new projects, switch between them, and reuse models across applications. This standardization leads to faster experimentation and model training, enhancing collaboration and efficiency among software engineering teams.\n",
    "\n",
    "- **Efficient Model Deployment:** MLOps enhances problem-solving and model management in production. Engineers can monitor model performance, troubleshoot issues, and manage model versions centrally. Integrating m\n",
    "model workflows into continuous integration and delivery (CI/CD) pipelines helps maintain model quality and prevent performance degradation, even after updates and tuning.\n",
    "\n",
    "\n",
    "#### Difference between MlOps and DevOps\n",
    "\n",
    "\n",
    "Both MLOps and DevOps are practices aimed at improving the processes of developing, deploying, and monitoring software applications.\n",
    "\n",
    "**DevOps** focuses on bridging the gap between development and operations teams. It ensures that code changes are tested, integrated, and deployed automatically into production efficiently and reliably. DevOps promotes a culture of collaboration to accelerate release cycles, improve application quality, and optimize resource use.\n",
    "\n",
    "**MLOps**, on the other hand, is a set of best practices specifically designed for machine learning projects. While traditional software deployment and integration are relatively straightforward, ML models pose unique challenges, including data collection, model training, validation, deployment, and continuous monitoring and retraining.\n",
    "\n",
    "MLOps focuses on automating the machine learning lifecycle. It ensures that models are not only developed but also systematically and repeatedly deployed, monitored, and retrained. By incorporating DevOps principles into ML, MLOps results in faster model deployment, greater accuracy over time, and increased confidence that models deliver real business value."
   ]
  },
  {
   "cell_type": "markdown",
   "metadata": {},
   "source": []
  }
 ],
 "metadata": {
  "language_info": {
   "name": "python"
  }
 },
 "nbformat": 4,
 "nbformat_minor": 2
}
